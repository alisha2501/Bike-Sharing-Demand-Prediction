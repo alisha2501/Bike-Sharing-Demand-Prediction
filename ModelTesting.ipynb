{
  "nbformat": 4,
  "nbformat_minor": 0,
  "metadata": {
    "colab": {
      "name": "ModelTesting.ipynb",
      "provenance": [],
      "authorship_tag": "ABX9TyOgFlEvNECCEkxHZuX7vjw0",
      "include_colab_link": true
    },
    "kernelspec": {
      "name": "python3",
      "display_name": "Python 3"
    },
    "language_info": {
      "name": "python"
    }
  },
  "cells": [
    {
      "cell_type": "markdown",
      "metadata": {
        "id": "view-in-github",
        "colab_type": "text"
      },
      "source": [
        "<a href=\"https://colab.research.google.com/github/Ayushman0Singh/BikeSharingDemandPrediction/blob/main/ModelTesting.ipynb\" target=\"_parent\"><img src=\"https://colab.research.google.com/assets/colab-badge.svg\" alt=\"Open In Colab\"/></a>"
      ]
    },
    {
      "cell_type": "code",
      "execution_count": 1,
      "metadata": {
        "colab": {
          "base_uri": "https://localhost:8080/"
        },
        "id": "VTUdjsH-YTdN",
        "outputId": "b76948c0-8b17-4af4-88c7-fcdecec108ee"
      },
      "outputs": [
        {
          "output_type": "stream",
          "name": "stdout",
          "text": [
            "Mounted at /content/drive\n"
          ]
        }
      ],
      "source": [
        "# importing our data handling tools\n",
        "import numpy as np\n",
        "import pandas as pd\n",
        "import numpy as math \n",
        "import seaborn as sns\n",
        "import matplotlib.pyplot as plt\n",
        "import matplotlib\n",
        "#mounting drive\n",
        "from google.colab import drive\n",
        "drive.mount('/content/drive')\n",
        "file_path = '/content/drive/MyDrive/Almabetter/Capstone Projects/Supervised ML-Regression /SeoulBikeData.csv'\n",
        "df = pd.read_csv(file_path,encoding= 'unicode_escape')"
      ]
    },
    {
      "cell_type": "code",
      "source": [
        "#Converting date to date-month-year\n",
        "import datetime\n",
        "df['Year'] = pd.DatetimeIndex(df['Date']).year   #getting year column\n",
        "df['Month'] = pd.DatetimeIndex(df['Date']).month  #getting month column\n",
        "df['Day'] = pd.DatetimeIndex(df['Date']).day  #getting Day column\n",
        "df['Day_of_Week'] = pd.DatetimeIndex(df['Date']).weekday #Day of week \n",
        "df = df[df['Functioning Day'] == 'Yes']\n",
        "df.sample(2)"
      ],
      "metadata": {
        "colab": {
          "base_uri": "https://localhost:8080/",
          "height": 228
        },
        "id": "xfJZcqw9teB1",
        "outputId": "75992d92-a6b0-4132-a437-247383f4ce86"
      },
      "execution_count": 2,
      "outputs": [
        {
          "output_type": "execute_result",
          "data": {
            "text/html": [
              "\n",
              "  <div id=\"df-c54d34cf-79bf-449e-b44a-e054ded2740e\">\n",
              "    <div class=\"colab-df-container\">\n",
              "      <div>\n",
              "<style scoped>\n",
              "    .dataframe tbody tr th:only-of-type {\n",
              "        vertical-align: middle;\n",
              "    }\n",
              "\n",
              "    .dataframe tbody tr th {\n",
              "        vertical-align: top;\n",
              "    }\n",
              "\n",
              "    .dataframe thead th {\n",
              "        text-align: right;\n",
              "    }\n",
              "</style>\n",
              "<table border=\"1\" class=\"dataframe\">\n",
              "  <thead>\n",
              "    <tr style=\"text-align: right;\">\n",
              "      <th></th>\n",
              "      <th>Date</th>\n",
              "      <th>Rented Bike Count</th>\n",
              "      <th>Hour</th>\n",
              "      <th>Temperature(°C)</th>\n",
              "      <th>Humidity(%)</th>\n",
              "      <th>Wind speed (m/s)</th>\n",
              "      <th>Visibility (10m)</th>\n",
              "      <th>Dew point temperature(°C)</th>\n",
              "      <th>Solar Radiation (MJ/m2)</th>\n",
              "      <th>Rainfall(mm)</th>\n",
              "      <th>Snowfall (cm)</th>\n",
              "      <th>Seasons</th>\n",
              "      <th>Holiday</th>\n",
              "      <th>Functioning Day</th>\n",
              "      <th>Year</th>\n",
              "      <th>Month</th>\n",
              "      <th>Day</th>\n",
              "      <th>Day_of_Week</th>\n",
              "    </tr>\n",
              "  </thead>\n",
              "  <tbody>\n",
              "    <tr>\n",
              "      <th>2706</th>\n",
              "      <td>23/03/2018</td>\n",
              "      <td>1611</td>\n",
              "      <td>18</td>\n",
              "      <td>9.7</td>\n",
              "      <td>36</td>\n",
              "      <td>3.6</td>\n",
              "      <td>948</td>\n",
              "      <td>-4.6</td>\n",
              "      <td>0.37</td>\n",
              "      <td>0.0</td>\n",
              "      <td>0.0</td>\n",
              "      <td>Spring</td>\n",
              "      <td>No Holiday</td>\n",
              "      <td>Yes</td>\n",
              "      <td>2018</td>\n",
              "      <td>3</td>\n",
              "      <td>23</td>\n",
              "      <td>4</td>\n",
              "    </tr>\n",
              "    <tr>\n",
              "      <th>7354</th>\n",
              "      <td>03/10/2018</td>\n",
              "      <td>1113</td>\n",
              "      <td>10</td>\n",
              "      <td>17.3</td>\n",
              "      <td>53</td>\n",
              "      <td>0.7</td>\n",
              "      <td>1406</td>\n",
              "      <td>7.6</td>\n",
              "      <td>1.83</td>\n",
              "      <td>0.0</td>\n",
              "      <td>0.0</td>\n",
              "      <td>Autumn</td>\n",
              "      <td>Holiday</td>\n",
              "      <td>Yes</td>\n",
              "      <td>2018</td>\n",
              "      <td>3</td>\n",
              "      <td>10</td>\n",
              "      <td>5</td>\n",
              "    </tr>\n",
              "  </tbody>\n",
              "</table>\n",
              "</div>\n",
              "      <button class=\"colab-df-convert\" onclick=\"convertToInteractive('df-c54d34cf-79bf-449e-b44a-e054ded2740e')\"\n",
              "              title=\"Convert this dataframe to an interactive table.\"\n",
              "              style=\"display:none;\">\n",
              "        \n",
              "  <svg xmlns=\"http://www.w3.org/2000/svg\" height=\"24px\"viewBox=\"0 0 24 24\"\n",
              "       width=\"24px\">\n",
              "    <path d=\"M0 0h24v24H0V0z\" fill=\"none\"/>\n",
              "    <path d=\"M18.56 5.44l.94 2.06.94-2.06 2.06-.94-2.06-.94-.94-2.06-.94 2.06-2.06.94zm-11 1L8.5 8.5l.94-2.06 2.06-.94-2.06-.94L8.5 2.5l-.94 2.06-2.06.94zm10 10l.94 2.06.94-2.06 2.06-.94-2.06-.94-.94-2.06-.94 2.06-2.06.94z\"/><path d=\"M17.41 7.96l-1.37-1.37c-.4-.4-.92-.59-1.43-.59-.52 0-1.04.2-1.43.59L10.3 9.45l-7.72 7.72c-.78.78-.78 2.05 0 2.83L4 21.41c.39.39.9.59 1.41.59.51 0 1.02-.2 1.41-.59l7.78-7.78 2.81-2.81c.8-.78.8-2.07 0-2.86zM5.41 20L4 18.59l7.72-7.72 1.47 1.35L5.41 20z\"/>\n",
              "  </svg>\n",
              "      </button>\n",
              "      \n",
              "  <style>\n",
              "    .colab-df-container {\n",
              "      display:flex;\n",
              "      flex-wrap:wrap;\n",
              "      gap: 12px;\n",
              "    }\n",
              "\n",
              "    .colab-df-convert {\n",
              "      background-color: #E8F0FE;\n",
              "      border: none;\n",
              "      border-radius: 50%;\n",
              "      cursor: pointer;\n",
              "      display: none;\n",
              "      fill: #1967D2;\n",
              "      height: 32px;\n",
              "      padding: 0 0 0 0;\n",
              "      width: 32px;\n",
              "    }\n",
              "\n",
              "    .colab-df-convert:hover {\n",
              "      background-color: #E2EBFA;\n",
              "      box-shadow: 0px 1px 2px rgba(60, 64, 67, 0.3), 0px 1px 3px 1px rgba(60, 64, 67, 0.15);\n",
              "      fill: #174EA6;\n",
              "    }\n",
              "\n",
              "    [theme=dark] .colab-df-convert {\n",
              "      background-color: #3B4455;\n",
              "      fill: #D2E3FC;\n",
              "    }\n",
              "\n",
              "    [theme=dark] .colab-df-convert:hover {\n",
              "      background-color: #434B5C;\n",
              "      box-shadow: 0px 1px 3px 1px rgba(0, 0, 0, 0.15);\n",
              "      filter: drop-shadow(0px 1px 2px rgba(0, 0, 0, 0.3));\n",
              "      fill: #FFFFFF;\n",
              "    }\n",
              "  </style>\n",
              "\n",
              "      <script>\n",
              "        const buttonEl =\n",
              "          document.querySelector('#df-c54d34cf-79bf-449e-b44a-e054ded2740e button.colab-df-convert');\n",
              "        buttonEl.style.display =\n",
              "          google.colab.kernel.accessAllowed ? 'block' : 'none';\n",
              "\n",
              "        async function convertToInteractive(key) {\n",
              "          const element = document.querySelector('#df-c54d34cf-79bf-449e-b44a-e054ded2740e');\n",
              "          const dataTable =\n",
              "            await google.colab.kernel.invokeFunction('convertToInteractive',\n",
              "                                                     [key], {});\n",
              "          if (!dataTable) return;\n",
              "\n",
              "          const docLinkHtml = 'Like what you see? Visit the ' +\n",
              "            '<a target=\"_blank\" href=https://colab.research.google.com/notebooks/data_table.ipynb>data table notebook</a>'\n",
              "            + ' to learn more about interactive tables.';\n",
              "          element.innerHTML = '';\n",
              "          dataTable['output_type'] = 'display_data';\n",
              "          await google.colab.output.renderOutput(dataTable, element);\n",
              "          const docLink = document.createElement('div');\n",
              "          docLink.innerHTML = docLinkHtml;\n",
              "          element.appendChild(docLink);\n",
              "        }\n",
              "      </script>\n",
              "    </div>\n",
              "  </div>\n",
              "  "
            ],
            "text/plain": [
              "            Date  Rented Bike Count  Hour  Temperature(°C)  Humidity(%)  \\\n",
              "2706  23/03/2018               1611    18              9.7           36   \n",
              "7354  03/10/2018               1113    10             17.3           53   \n",
              "\n",
              "      Wind speed (m/s)  Visibility (10m)  Dew point temperature(°C)  \\\n",
              "2706               3.6               948                       -4.6   \n",
              "7354               0.7              1406                        7.6   \n",
              "\n",
              "      Solar Radiation (MJ/m2)  Rainfall(mm)  Snowfall (cm) Seasons  \\\n",
              "2706                     0.37           0.0            0.0  Spring   \n",
              "7354                     1.83           0.0            0.0  Autumn   \n",
              "\n",
              "         Holiday Functioning Day  Year  Month  Day  Day_of_Week  \n",
              "2706  No Holiday             Yes  2018      3   23            4  \n",
              "7354     Holiday             Yes  2018      3   10            5  "
            ]
          },
          "metadata": {},
          "execution_count": 2
        }
      ]
    },
    {
      "cell_type": "code",
      "source": [
        "df_pr = df.copy()\n",
        "df_pr.drop(labels = ['Date','Dew point temperature(°C)', 'Functioning Day' ] ,axis = 1,inplace = True)\n",
        "df_pr = pd.get_dummies(df_pr, columns=[\"Seasons\", \"Holiday\", 'Year', 'Month','Day','Day_of_Week', 'Hour' ])"
      ],
      "metadata": {
        "id": "U4MknAYm0Hnw"
      },
      "execution_count": 3,
      "outputs": []
    },
    {
      "cell_type": "code",
      "source": [
        "df_pr.sample(2)"
      ],
      "metadata": {
        "colab": {
          "base_uri": "https://localhost:8080/",
          "height": 240
        },
        "id": "e2Np87Im0y2g",
        "outputId": "8a1af7b0-6cb5-46bf-9b48-37e2f7596dbc"
      },
      "execution_count": 4,
      "outputs": [
        {
          "output_type": "execute_result",
          "data": {
            "text/html": [
              "\n",
              "  <div id=\"df-5225b79a-1c5d-46a6-be11-bbf3399daffb\">\n",
              "    <div class=\"colab-df-container\">\n",
              "      <div>\n",
              "<style scoped>\n",
              "    .dataframe tbody tr th:only-of-type {\n",
              "        vertical-align: middle;\n",
              "    }\n",
              "\n",
              "    .dataframe tbody tr th {\n",
              "        vertical-align: top;\n",
              "    }\n",
              "\n",
              "    .dataframe thead th {\n",
              "        text-align: right;\n",
              "    }\n",
              "</style>\n",
              "<table border=\"1\" class=\"dataframe\">\n",
              "  <thead>\n",
              "    <tr style=\"text-align: right;\">\n",
              "      <th></th>\n",
              "      <th>Rented Bike Count</th>\n",
              "      <th>Temperature(°C)</th>\n",
              "      <th>Humidity(%)</th>\n",
              "      <th>Wind speed (m/s)</th>\n",
              "      <th>Visibility (10m)</th>\n",
              "      <th>Solar Radiation (MJ/m2)</th>\n",
              "      <th>Rainfall(mm)</th>\n",
              "      <th>Snowfall (cm)</th>\n",
              "      <th>Seasons_Autumn</th>\n",
              "      <th>Seasons_Spring</th>\n",
              "      <th>...</th>\n",
              "      <th>Hour_14</th>\n",
              "      <th>Hour_15</th>\n",
              "      <th>Hour_16</th>\n",
              "      <th>Hour_17</th>\n",
              "      <th>Hour_18</th>\n",
              "      <th>Hour_19</th>\n",
              "      <th>Hour_20</th>\n",
              "      <th>Hour_21</th>\n",
              "      <th>Hour_22</th>\n",
              "      <th>Hour_23</th>\n",
              "    </tr>\n",
              "  </thead>\n",
              "  <tbody>\n",
              "    <tr>\n",
              "      <th>8659</th>\n",
              "      <td>1181</td>\n",
              "      <td>8.4</td>\n",
              "      <td>61</td>\n",
              "      <td>0.3</td>\n",
              "      <td>573</td>\n",
              "      <td>0.00</td>\n",
              "      <td>0.0</td>\n",
              "      <td>0.0</td>\n",
              "      <td>1</td>\n",
              "      <td>0</td>\n",
              "      <td>...</td>\n",
              "      <td>0</td>\n",
              "      <td>0</td>\n",
              "      <td>0</td>\n",
              "      <td>0</td>\n",
              "      <td>0</td>\n",
              "      <td>1</td>\n",
              "      <td>0</td>\n",
              "      <td>0</td>\n",
              "      <td>0</td>\n",
              "      <td>0</td>\n",
              "    </tr>\n",
              "    <tr>\n",
              "      <th>1595</th>\n",
              "      <td>156</td>\n",
              "      <td>-8.5</td>\n",
              "      <td>27</td>\n",
              "      <td>4.7</td>\n",
              "      <td>1894</td>\n",
              "      <td>1.73</td>\n",
              "      <td>0.0</td>\n",
              "      <td>0.0</td>\n",
              "      <td>0</td>\n",
              "      <td>0</td>\n",
              "      <td>...</td>\n",
              "      <td>0</td>\n",
              "      <td>0</td>\n",
              "      <td>0</td>\n",
              "      <td>0</td>\n",
              "      <td>0</td>\n",
              "      <td>0</td>\n",
              "      <td>0</td>\n",
              "      <td>0</td>\n",
              "      <td>0</td>\n",
              "      <td>0</td>\n",
              "    </tr>\n",
              "  </tbody>\n",
              "</table>\n",
              "<p>2 rows × 90 columns</p>\n",
              "</div>\n",
              "      <button class=\"colab-df-convert\" onclick=\"convertToInteractive('df-5225b79a-1c5d-46a6-be11-bbf3399daffb')\"\n",
              "              title=\"Convert this dataframe to an interactive table.\"\n",
              "              style=\"display:none;\">\n",
              "        \n",
              "  <svg xmlns=\"http://www.w3.org/2000/svg\" height=\"24px\"viewBox=\"0 0 24 24\"\n",
              "       width=\"24px\">\n",
              "    <path d=\"M0 0h24v24H0V0z\" fill=\"none\"/>\n",
              "    <path d=\"M18.56 5.44l.94 2.06.94-2.06 2.06-.94-2.06-.94-.94-2.06-.94 2.06-2.06.94zm-11 1L8.5 8.5l.94-2.06 2.06-.94-2.06-.94L8.5 2.5l-.94 2.06-2.06.94zm10 10l.94 2.06.94-2.06 2.06-.94-2.06-.94-.94-2.06-.94 2.06-2.06.94z\"/><path d=\"M17.41 7.96l-1.37-1.37c-.4-.4-.92-.59-1.43-.59-.52 0-1.04.2-1.43.59L10.3 9.45l-7.72 7.72c-.78.78-.78 2.05 0 2.83L4 21.41c.39.39.9.59 1.41.59.51 0 1.02-.2 1.41-.59l7.78-7.78 2.81-2.81c.8-.78.8-2.07 0-2.86zM5.41 20L4 18.59l7.72-7.72 1.47 1.35L5.41 20z\"/>\n",
              "  </svg>\n",
              "      </button>\n",
              "      \n",
              "  <style>\n",
              "    .colab-df-container {\n",
              "      display:flex;\n",
              "      flex-wrap:wrap;\n",
              "      gap: 12px;\n",
              "    }\n",
              "\n",
              "    .colab-df-convert {\n",
              "      background-color: #E8F0FE;\n",
              "      border: none;\n",
              "      border-radius: 50%;\n",
              "      cursor: pointer;\n",
              "      display: none;\n",
              "      fill: #1967D2;\n",
              "      height: 32px;\n",
              "      padding: 0 0 0 0;\n",
              "      width: 32px;\n",
              "    }\n",
              "\n",
              "    .colab-df-convert:hover {\n",
              "      background-color: #E2EBFA;\n",
              "      box-shadow: 0px 1px 2px rgba(60, 64, 67, 0.3), 0px 1px 3px 1px rgba(60, 64, 67, 0.15);\n",
              "      fill: #174EA6;\n",
              "    }\n",
              "\n",
              "    [theme=dark] .colab-df-convert {\n",
              "      background-color: #3B4455;\n",
              "      fill: #D2E3FC;\n",
              "    }\n",
              "\n",
              "    [theme=dark] .colab-df-convert:hover {\n",
              "      background-color: #434B5C;\n",
              "      box-shadow: 0px 1px 3px 1px rgba(0, 0, 0, 0.15);\n",
              "      filter: drop-shadow(0px 1px 2px rgba(0, 0, 0, 0.3));\n",
              "      fill: #FFFFFF;\n",
              "    }\n",
              "  </style>\n",
              "\n",
              "      <script>\n",
              "        const buttonEl =\n",
              "          document.querySelector('#df-5225b79a-1c5d-46a6-be11-bbf3399daffb button.colab-df-convert');\n",
              "        buttonEl.style.display =\n",
              "          google.colab.kernel.accessAllowed ? 'block' : 'none';\n",
              "\n",
              "        async function convertToInteractive(key) {\n",
              "          const element = document.querySelector('#df-5225b79a-1c5d-46a6-be11-bbf3399daffb');\n",
              "          const dataTable =\n",
              "            await google.colab.kernel.invokeFunction('convertToInteractive',\n",
              "                                                     [key], {});\n",
              "          if (!dataTable) return;\n",
              "\n",
              "          const docLinkHtml = 'Like what you see? Visit the ' +\n",
              "            '<a target=\"_blank\" href=https://colab.research.google.com/notebooks/data_table.ipynb>data table notebook</a>'\n",
              "            + ' to learn more about interactive tables.';\n",
              "          element.innerHTML = '';\n",
              "          dataTable['output_type'] = 'display_data';\n",
              "          await google.colab.output.renderOutput(dataTable, element);\n",
              "          const docLink = document.createElement('div');\n",
              "          docLink.innerHTML = docLinkHtml;\n",
              "          element.appendChild(docLink);\n",
              "        }\n",
              "      </script>\n",
              "    </div>\n",
              "  </div>\n",
              "  "
            ],
            "text/plain": [
              "      Rented Bike Count  Temperature(°C)  Humidity(%)  Wind speed (m/s)  \\\n",
              "8659               1181              8.4           61               0.3   \n",
              "1595                156             -8.5           27               4.7   \n",
              "\n",
              "      Visibility (10m)  Solar Radiation (MJ/m2)  Rainfall(mm)  Snowfall (cm)  \\\n",
              "8659               573                     0.00           0.0            0.0   \n",
              "1595              1894                     1.73           0.0            0.0   \n",
              "\n",
              "      Seasons_Autumn  Seasons_Spring  ...  Hour_14  Hour_15  Hour_16  Hour_17  \\\n",
              "8659               1               0  ...        0        0        0        0   \n",
              "1595               0               0  ...        0        0        0        0   \n",
              "\n",
              "      Hour_18  Hour_19  Hour_20  Hour_21  Hour_22  Hour_23  \n",
              "8659        0        1        0        0        0        0  \n",
              "1595        0        0        0        0        0        0  \n",
              "\n",
              "[2 rows x 90 columns]"
            ]
          },
          "metadata": {},
          "execution_count": 4
        }
      ]
    },
    {
      "cell_type": "code",
      "source": [
        "features = list(df_pr.columns)[1:]\n",
        "X = df_pr[features]\n",
        "y = math.sqrt(df_pr['Rented Bike Count'])"
      ],
      "metadata": {
        "id": "Xs8Q6ET80Hqm"
      },
      "execution_count": 5,
      "outputs": []
    },
    {
      "cell_type": "code",
      "source": [
        "from sklearn.model_selection import train_test_split \n",
        "X_train, X_test, y_train, y_test = train_test_split( X,y , test_size = 0.2, random_state = 0) \n",
        "print(X_train.shape)\n",
        "print(X_test.shape)\n",
        "from sklearn.preprocessing import StandardScaler\n",
        "sc = StandardScaler()\n",
        "sc.fit_transform(X_train)\n",
        "sc.transform(X_test)"
      ],
      "metadata": {
        "colab": {
          "base_uri": "https://localhost:8080/"
        },
        "id": "h5hYUoci6E-N",
        "outputId": "6ad32c3a-818d-4b95-e591-0736d552f009"
      },
      "execution_count": 6,
      "outputs": [
        {
          "output_type": "stream",
          "name": "stdout",
          "text": [
            "(6772, 89)\n",
            "(1693, 89)\n"
          ]
        },
        {
          "output_type": "execute_result",
          "data": {
            "text/plain": [
              "array([[-1.5488159 , -1.27212732,  0.74002609, ..., -0.21265707,\n",
              "        -0.20922027, -0.20690275],\n",
              "       [ 0.85588137,  1.22372383, -0.22378972, ..., -0.21265707,\n",
              "        -0.20922027, -0.20690275],\n",
              "       [-0.338232  , -0.4891152 ,  2.28213139, ..., -0.21265707,\n",
              "        -0.20922027, -0.20690275],\n",
              "       ...,\n",
              "       [ 0.78999926,  0.19602041, -0.80207921, ..., -0.21265707,\n",
              "        -0.20922027, -0.20690275],\n",
              "       [-0.66764258,  0.97903254, -0.22378972, ..., -0.21265707,\n",
              "        -0.20922027, -0.20690275],\n",
              "       [-1.25234637, -1.37000384,  0.93278925, ..., -0.21265707,\n",
              "        -0.20922027, -0.20690275]])"
            ]
          },
          "metadata": {},
          "execution_count": 6
        }
      ]
    },
    {
      "cell_type": "code",
      "source": [
        "#Reguarised linear Regression\n",
        "from sklearn.linear_model import LinearRegression\n",
        "from sklearn.metrics import r2_score\n",
        "reg = LinearRegression().fit(X_train, y_train)\n",
        "y_pred = reg.predict(X_test)\n",
        "print('r2 for lr =', r2_score((y_test)**2, (y_pred)**2))"
      ],
      "metadata": {
        "colab": {
          "base_uri": "https://localhost:8080/"
        },
        "id": "7lqA30No09MI",
        "outputId": "cf1b5879-8bd3-4aa6-d979-c84a0bf57f46"
      },
      "execution_count": 7,
      "outputs": [
        {
          "output_type": "stream",
          "name": "stdout",
          "text": [
            "r2 for lr = 0.7287162043937694\n"
          ]
        }
      ]
    },
    {
      "cell_type": "code",
      "source": [
        "#lasso/L1\n",
        "from sklearn.linear_model import Lasso\n",
        "Lasso = Lasso(alpha = 0.001, max_iter= 1000).fit(X_train,y_train)\n",
        "y_pred_lasso = Lasso.predict(X_test)\n",
        "print('r2 for lasso =', r2_score((y_test)**2, (y_pred_lasso)**2))"
      ],
      "metadata": {
        "colab": {
          "base_uri": "https://localhost:8080/"
        },
        "id": "ITFS7KOL5pMR",
        "outputId": "4106c8ea-c149-41d0-dc47-c9b69bbea362"
      },
      "execution_count": 9,
      "outputs": [
        {
          "output_type": "stream",
          "name": "stdout",
          "text": [
            "r2 for lasso = 0.7282643398969834\n"
          ]
        }
      ]
    },
    {
      "cell_type": "code",
      "source": [
        "#Ridge/L2\n",
        "from sklearn.linear_model import Ridge\n",
        "Ridge = Ridge(alpha = 6, max_iter= 1000).fit(X_train,y_train)\n",
        "y_pred_ridge = Ridge.predict(X_test)\n",
        "print('r2 for Ridge =', r2_score((y_test)**2, (y_pred_ridge)**2))"
      ],
      "metadata": {
        "colab": {
          "base_uri": "https://localhost:8080/"
        },
        "id": "mJgZYKN-K8Ou",
        "outputId": "24d0606c-6b41-40ea-d292-3aa78fee1a5e"
      },
      "execution_count": null,
      "outputs": [
        {
          "output_type": "stream",
          "name": "stdout",
          "text": [
            "r2 for Ridge = 0.7272586766588252\n"
          ]
        }
      ]
    },
    {
      "cell_type": "code",
      "source": [
        "#RMSLE\n",
        "from sklearn.metrics import mean_squared_log_error\n",
        "msle=mean_squared_log_error((y_test)**2, (y_pred_lasso)**2)\n",
        "rmsle=np.sqrt(msle)\n",
        "print('RMLSE for the data Lasso:',rmsle)"
      ],
      "metadata": {
        "colab": {
          "base_uri": "https://localhost:8080/"
        },
        "id": "dZv-E0kjD5yi",
        "outputId": "b21f3545-ef0f-4972-f556-4daaa5175119"
      },
      "execution_count": 10,
      "outputs": [
        {
          "output_type": "stream",
          "name": "stdout",
          "text": [
            "RMLSE for the data Lasso: 0.8276824961546995\n"
          ]
        }
      ]
    },
    {
      "cell_type": "code",
      "source": [
        "from sklearn.ensemble import RandomForestRegressor\n",
        "from sklearn.ensemble import GradientBoostingRegressor\n",
        "from sklearn.tree import DecisionTreeRegressor\n",
        "from sklearn.model_selection import GridSearchCV\n",
        "from sklearn.metrics import accuracy_score"
      ],
      "metadata": {
        "id": "uOyT2IBP62S-"
      },
      "execution_count": 11,
      "outputs": []
    },
    {
      "cell_type": "code",
      "source": [
        "#Hyperparameter tuning for DT\n",
        "hyperP_DT = {'max_depth':np.arange(8,100,2),'max_leaf_nodes': np.arange(100,500,10)}\n",
        "DTregressor1 = GridSearchCV(DecisionTreeRegressor(random_state=88), hyperP_DT, cv=4)\n",
        "DTregressor1.fit(X_train,y_train) \n",
        "y_pred_DTregressor1 = DTregressor1.predict(X_test)\n",
        "DTregressor1.best_params_"
      ],
      "metadata": {
        "colab": {
          "base_uri": "https://localhost:8080/"
        },
        "id": "59wucZdUGmmK",
        "outputId": "671a863d-7512-40d0-9eb9-44a959f91c67"
      },
      "execution_count": 12,
      "outputs": [
        {
          "output_type": "execute_result",
          "data": {
            "text/plain": [
              "{'max_depth': 22, 'max_leaf_nodes': 180}"
            ]
          },
          "metadata": {},
          "execution_count": 12
        }
      ]
    },
    {
      "cell_type": "code",
      "source": [
        "#Using the decision tree of the best parameters. \n",
        "print('r2 for DT1 =', r2_score((y_test)**2, (y_pred_DTregressor1)**2))\n",
        "print('r2 on train set DT =', DTregressor1.score(X_train,y_train) )\n",
        "\n",
        "#RMSLE\n",
        "msle=mean_squared_log_error((y_test)**2, (y_pred_DTregressor1)**2)\n",
        "rmsle=np.sqrt(msle)\n",
        "print('RMLSE for the data DT1:',rmsle)\n",
        "#Tree Properties\n",
        "#print('Tree Depth',DTregressor1.get_depth())\n",
        "# print('Tree Max Nodes', DTregressor1.get_n_leaves())"
      ],
      "metadata": {
        "colab": {
          "base_uri": "https://localhost:8080/"
        },
        "id": "IZL-UkDUMVa7",
        "outputId": "3a410d09-04c5-412f-93a0-f278edc3cd0b"
      },
      "execution_count": null,
      "outputs": [
        {
          "output_type": "stream",
          "name": "stdout",
          "text": [
            "r2 for DT1 = 0.7743855281218548\n",
            "r2 on train set DT = 0.9010135963050074\n",
            "RMLSE for the data DT1: 0.5986789018876447\n"
          ]
        }
      ]
    },
    {
      "cell_type": "code",
      "source": [
        "# Trial Decision Tree Regressor\n",
        "DTregressor = DecisionTreeRegressor(max_leaf_nodes = 400, random_state=88)\n",
        "DTregressor.fit(X_train,y_train)\n",
        "y_pred_DTregressor = DTregressor.predict(X_test)"
      ],
      "metadata": {
        "id": "5lzmqGGvHC4H"
      },
      "execution_count": null,
      "outputs": []
    },
    {
      "cell_type": "code",
      "source": [
        "print('r2 for DT =', r2_score((y_test)**2, (y_pred_DTregressor)**2))\n",
        "print('r2 on train set DT =', DTregressor.score(X_train,y_train) )\n",
        "#M\n",
        "\n",
        "#RMSLE\n",
        "msle=mean_squared_log_error((y_test)**2, (y_pred_DTregressor)**2)\n",
        "rmsle=np.sqrt(msle)\n",
        "print('RMLSE for the data DT:',rmsle)\n",
        "print('RMLSE for the data DT :',rmsle)\n",
        "#Tree Properties\n",
        "print('Tree Depth',DTregressor.get_depth())\n",
        "print('Tree Max Nodes', DTregressor.get_n_leaves())"
      ],
      "metadata": {
        "colab": {
          "base_uri": "https://localhost:8080/"
        },
        "id": "c901ev6XNfrr",
        "outputId": "b7f1906a-8042-479c-c9e8-d0300e739a2b"
      },
      "execution_count": null,
      "outputs": [
        {
          "output_type": "stream",
          "name": "stdout",
          "text": [
            "r2 for DT = 0.7569342826519919\n",
            "r2 on train set DT = 0.9431212721545797\n",
            "RMLSE for the data DT: 0.6108428588893801\n",
            "RMLSE for the data DT : 0.6108428588893801\n",
            "Tree Depth 26\n",
            "Tree Max Nodes 400\n"
          ]
        }
      ]
    },
    {
      "cell_type": "code",
      "source": [
        "#RF\n",
        "RFRegressor = RandomForestRegressor()\n",
        "Hyperparam_RF = {'n_estimators':[50, 80 ,100], 'max_depth':np.arange(20,30,1)}\n",
        "RFRegressor = GridSearchCV(RFRegressor, param_grid = Hyperparam_RF, cv=3)\n",
        "\n",
        "# Fit the object to train dataset\n",
        "RFRegressor.fit(X_train, y_train)\n",
        "y_pred_RFregressor = RFRegressor.predict(X_test)\n",
        "RFRegressor.best_params_"
      ],
      "metadata": {
        "colab": {
          "base_uri": "https://localhost:8080/"
        },
        "id": "tepGZUmL62kb",
        "outputId": "fc043aa6-d5c7-41b8-f192-8d26da307768"
      },
      "execution_count": null,
      "outputs": [
        {
          "output_type": "execute_result",
          "data": {
            "text/plain": [
              "{'max_depth': 26, 'n_estimators': 100}"
            ]
          },
          "metadata": {},
          "execution_count": 17
        }
      ]
    },
    {
      "cell_type": "code",
      "source": [
        "y_pred_RFregressor_train = RFRegressor.predict(X_train)"
      ],
      "metadata": {
        "id": "JoPs8IwaaTGq"
      },
      "execution_count": null,
      "outputs": []
    },
    {
      "cell_type": "code",
      "source": [
        "print('r2 for test-set rf =', r2_score((y_test)**2, (y_pred_RFregressor)**2))\n",
        "print('r2 on train set rf =', r2_score((y_train)**2, (y_pred_RFregressor_train)**2))\n",
        "#RMSLE\n",
        "msle=mean_squared_log_error((y_test)**2, (y_pred_RFregressor)**2)\n",
        "rmsle=np.sqrt(msle)\n",
        "print('RMLSE for the data rf:',rmsle)\n"
      ],
      "metadata": {
        "colab": {
          "base_uri": "https://localhost:8080/"
        },
        "id": "LyZzPqmQMRG2",
        "outputId": "63b1a4d2-ade4-4d10-9d46-ec39ecfc049c"
      },
      "execution_count": null,
      "outputs": [
        {
          "output_type": "stream",
          "name": "stdout",
          "text": [
            "r2 for test-set rf = 0.8412918419260885\n",
            "r2 on train set rf = 0.979106809680626\n",
            "RMLSE for the data rf: 0.4835768246917128\n"
          ]
        }
      ]
    },
    {
      "cell_type": "code",
      "source": [
        "#ADA-Boost\n",
        "from sklearn.ensemble import AdaBoostRegressor\n",
        "AdaRegressor = AdaBoostRegressor()\n",
        "#Hyper-parameter tunning for AdaBoost\n",
        "Hyperparam_AB = {'n_estimators':[100,150,200] ,'learning_rate': [0.1,1,10]}\n",
        "AdaRegressor = GridSearchCV(AdaRegressor, param_grid= Hyperparam_AB, scoring='r2')\n",
        "\n",
        "#fitting to train data\n",
        "AdaRegressor.fit(X_train,y_train)\n",
        "y_pred_AdaBoost = AdaRegressor.predict(X_test)\n",
        "y_pred_AdaBoost_train = AdaRegressor.predict(X_train)\n",
        "AdaRegressor.best_params_"
      ],
      "metadata": {
        "colab": {
          "base_uri": "https://localhost:8080/"
        },
        "id": "FGmW1VKh95OH",
        "outputId": "b82478e3-44db-4a14-fd51-d534ef51ccc6"
      },
      "execution_count": 15,
      "outputs": [
        {
          "output_type": "execute_result",
          "data": {
            "text/plain": [
              "{'learning_rate': 0.1, 'n_estimators': 200}"
            ]
          },
          "metadata": {},
          "execution_count": 15
        }
      ]
    },
    {
      "cell_type": "code",
      "source": [
        "print('r2 for test-set ADA-Boost =', r2_score((y_test)**2, (y_pred_AdaBoost)**2))\n",
        "print('r2 on train set ADA-Boost =', r2_score((y_train)**2, (y_pred_AdaBoost_train)**2))"
      ],
      "metadata": {
        "colab": {
          "base_uri": "https://localhost:8080/"
        },
        "id": "L8YFEsUpBajz",
        "outputId": "bf23c920-9601-4e7a-cdac-b79f6ca112ad"
      },
      "execution_count": 21,
      "outputs": [
        {
          "output_type": "stream",
          "name": "stdout",
          "text": [
            "r2 for test-set ADA-Boost = 0.5713739295749568\n",
            "r2 on train set ADA-Boost = 0.5876363447259647\n"
          ]
        }
      ]
    },
    {
      "cell_type": "code",
      "source": [
        "#GBM\n",
        "from sklearn.ensemble import GradientBoostingRegressor\n",
        "GBMregressor = GradientBoostingRegressor()\n",
        "#Hyperparameter tunning\n",
        "Hyperparam_GBM = {'learning_rate':[0.1], 'n_estimators':[100,500,1000]}\n",
        "GBMregressor = GridSearchCV(GBMregressor,param_grid = Hyperparam_GBM )\n",
        "#fitting to train data\n",
        "GBMregressor.fit(X_train,y_train)\n",
        "y_pred_GBMregressor = GBMregressor.predict(X_test)\n",
        "y_pred_GBMregressor_train = GBMregressor.predict(X_train)\n",
        "GBMregressor.best_params_\n"
      ],
      "metadata": {
        "colab": {
          "base_uri": "https://localhost:8080/"
        },
        "id": "eT-lESGnCViQ",
        "outputId": "44e9ddaf-5a8c-413a-88d4-85df3d2c3884"
      },
      "execution_count": 38,
      "outputs": [
        {
          "output_type": "execute_result",
          "data": {
            "text/plain": [
              "{'learning_rate': 0.1, 'n_estimators': 1000}"
            ]
          },
          "metadata": {},
          "execution_count": 38
        }
      ]
    },
    {
      "cell_type": "code",
      "source": [
        "print('r2 for test-set GBM =', r2_score((y_test)**2, (y_pred_GBMregressor)**2))\n",
        "print('r2 on train set GBM =', r2_score((y_train)**2, (y_pred_GBMregressor_train)**2))"
      ],
      "metadata": {
        "colab": {
          "base_uri": "https://localhost:8080/"
        },
        "id": "O5c8hPlaCqnI",
        "outputId": "5d302631-3f2d-4bb5-8c3a-f386c37f90d8"
      },
      "execution_count": 39,
      "outputs": [
        {
          "output_type": "stream",
          "name": "stdout",
          "text": [
            "r2 for test-set GBM = 0.8828475183978364\n",
            "r2 on train set GBM = 0.9472524303669758\n"
          ]
        }
      ]
    },
    {
      "cell_type": "code",
      "source": [
        ""
      ],
      "metadata": {
        "id": "vN3lIUCQa6OA"
      },
      "execution_count": null,
      "outputs": []
    }
  ]
}